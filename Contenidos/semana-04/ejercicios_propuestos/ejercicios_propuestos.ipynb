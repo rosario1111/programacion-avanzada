{
 "cells": [
  {
   "cell_type": "markdown",
   "metadata": {},
   "source": [
    "# Ejercicios propuestos: Programación Funcional y Built-Ins"
   ]
  },
  {
   "cell_type": "markdown",
   "metadata": {},
   "source": [
    "Los siguientes problemas se dejan como opción para ejercitar los conceptos revisados en el material de Programación Funcional y Built-ins (`semana-04`). Si tienes dudas sobre algún problema o alguna solución, no dudes en dejar una *issue* en el [foro del curso](https://github.com/IIC2233/syllabus/issues). \n",
    "\n",
    "Uno de los objetivos de estos ejercicios es que practiquen el **uso de programación funcional, generadores y decoradores** para cada situación. Al momento de enfretarnos a un problema de programación, podemos encontrarnos con ciertos procesos que se verían beneficiados en extremo de ser realizados funcionalmente. Esto no solo en un términos de menos lineas de código, sino que también en términos de eficiencia. Es escencial tener flexibilidad y manejo en cuanto a las distintas formas de enfrentar un problema. Esperamos que estos ejercicios les sirvan para practicar eso."
   ]
  },
  {
   "cell_type": "markdown",
   "metadata": {},
   "source": [
    "## Ejercicio 1: Iterables por Comprensión y Built Ins"
   ]
  },
  {
   "cell_type": "markdown",
   "metadata": {},
   "source": [
    "En este ejercicio te daremos tres iterables con mucha información inútil, dentro de la cual hay un atributo en especifico que es de interés. Deberás utilizar **iterables por comprensión** para extraer la información que necesitas. \n",
    "\n",
    "En la siguiente celda se carga la información a utilizar:"
   ]
  },
  {
   "cell_type": "code",
   "execution_count": 18,
   "metadata": {},
   "outputs": [],
   "source": [
    "from collections import namedtuple\n",
    "\n",
    "Trash = namedtuple(\"Trash\", [\"trash_1\", \"trash_2\", \"trash_3\"])\n",
    "with open(\"data/names.csv\") as file:\n",
    "    names = file.read().splitlines()\n",
    "    \n",
    "with open(\"data/surnames.csv\") as file:\n",
    "    surnames = [Trash(*data.split(\",\")) for data in file.read().splitlines()]\n",
    "\n",
    "with open(\"data/money.csv\") as file:\n",
    "    money = list(map(int, file.read().splitlines()))"
   ]
  },
  {
   "cell_type": "markdown",
   "metadata": {},
   "source": [
    "Esta base de datos tiene información respecto a una persona y su estado económico. Esto es representado por su nombre su apellido y sus ahorros en millones de pesos.\n",
    "\n",
    "En primer lugar en el iterable `names` se encuentran todos los nombres de las personas, sin embargo se encuentran mezclados con strings corruptos. Estos strings corruptos están compuestos solo por números.\n",
    "\n",
    "Deberás utilizar una **lista por comprensión** para extraer solo los strings que **no son corruptos**. \n",
    "\n",
    "**Hint:** puedes utilizar la función `isnumeric`."
   ]
  },
  {
   "cell_type": "code",
   "execution_count": 19,
   "metadata": {},
   "outputs": [
    {
     "name": "stdout",
     "output_type": "stream",
     "text": [
      "['Tracey', 'Justin', 'Amanda', 'Curtis', 'Andrew', 'Brian', 'Eric', 'Stephanie', 'Christopher', 'Courtney', 'Jason', 'Sherry', 'Dawn', 'Michael', 'Matthew', 'Jason', 'Angela', 'Shannon', 'Matthew', 'Kristin', 'Terri', 'Pam', 'Chris', 'Nicole', 'Mr.', 'Donald', 'Karen', 'Jenna', 'Christine', 'Philip', 'John', 'Mindy', 'Hannah', 'Melissa', 'Eugene', 'Joseph', 'Joshua', 'Ralph', 'Mary', 'Edward', 'Patty', 'Heidi', 'Luis', 'Ms.', 'Hannah', 'Barbara', 'Kathleen', 'Daniel', 'Claudia', 'Keith']\n"
     ]
    }
   ],
   "source": [
    "# Escribe tu código aquí:\n",
    "# Este proceso es símil a la función filter\n",
    "true_names = [n for n in names if not n.isnumeric() ]\n",
    "print(true_names)"
   ]
  },
  {
   "cell_type": "markdown",
   "metadata": {},
   "source": [
    "En segundo lugar en el iterable `surnames` se encuentran todos los apellidos de las personas, sin embargo estás han sido cargadas a un `namedtuple` llamado `Trash`. Este tiene tres elementos, del cual solo nos interesa `trash_3`. \n",
    "\n",
    "Deberás utilizar una **lista por comprensión** para extraer solo el atributo `trash_3` del iterable."
   ]
  },
  {
   "cell_type": "code",
   "execution_count": 20,
   "metadata": {},
   "outputs": [
    {
     "name": "stdout",
     "output_type": "stream",
     "text": [
      "['Young', 'Thompson', 'Bowman', 'Davis', 'Foster', 'Perez', 'Palmer', 'Collins', 'Black', 'Harris', 'Fisher', 'Hall', 'Thornton', 'Navarro', 'Wilson', 'Gomez', 'Hernandez', 'Randall', 'Richards', 'Watson', 'Hernandez', 'Adams', 'Jackson', 'White', 'Hopkins', 'Manning', 'Williams', 'Anderson', 'Burns', 'Bradshaw', 'Collins', 'Griffin', 'Greer', 'King', 'Mahoney', 'Fernandez', 'Wright', 'Thomas', 'Avila', 'Barker', 'Freeman', 'Ball', 'Le', 'Thornton', 'Brown', 'Frye', 'Martin', 'Kaiser', 'DDS', 'Torres']\n"
     ]
    }
   ],
   "source": [
    "# Escribe tu código aquí:\n",
    "# Este proceso es símil a la función map\n",
    "true_surnames = [s.trash_3 for s in surnames]\n",
    "print(true_surnames)"
   ]
  },
  {
   "cell_type": "markdown",
   "metadata": {},
   "source": [
    "Finalmente en el iterable `money` se encuentran todas las ganacias de las personas, sin embargo los datos se encuentran repetidos múltiples veces.\n",
    "\n",
    "Deberás utilizar un **set por comprensión** para eliminar la información repetida."
   ]
  },
  {
   "cell_type": "code",
   "execution_count": 21,
   "metadata": {},
   "outputs": [
    {
     "name": "stdout",
     "output_type": "stream",
     "text": [
      "{0, 1, 2, 3, 4, 5, 6, 7, 8, 9, 10, 11, 12, 13, 14, 15, 16, 17, 18, 19, 20, 21, 22, 23, 24, 25, 26, 27, 28, 29, 30, 31, 32, 33, 34, 35, 36, 37, 38, 39, 40, 41, 42, 43, 44, 45, 46, 47, 48, 49}\n"
     ]
    }
   ],
   "source": [
    "# Escribe tu código aquí:\n",
    "true_money = {m for m in money}\n",
    "print(true_money)"
   ]
  },
  {
   "cell_type": "markdown",
   "metadata": {},
   "source": [
    "Ahora que tienes todos tus resultados, es hora de mostrarlos adecuadamente. Deseas mostrar los tres datos uno al lado del otro más una numeración adecuada.\n",
    "\n",
    "Deberás utilizar `zip` y `enumerate`."
   ]
  },
  {
   "cell_type": "code",
   "execution_count": 23,
   "metadata": {},
   "outputs": [
    {
     "name": "stdout",
     "output_type": "stream",
     "text": [
      "1.- Tracey / Young / 0\n",
      "2.- Justin / Thompson / 1\n",
      "3.- Amanda / Bowman / 2\n",
      "4.- Curtis / Davis / 3\n",
      "5.- Andrew / Foster / 4\n",
      "6.- Brian / Perez / 5\n",
      "7.- Eric / Palmer / 6\n",
      "8.- Stephanie / Collins / 7\n",
      "9.- Christopher / Black / 8\n",
      "10.- Courtney / Harris / 9\n",
      "11.- Jason / Fisher / 10\n",
      "12.- Sherry / Hall / 11\n",
      "13.- Dawn / Thornton / 12\n",
      "14.- Michael / Navarro / 13\n",
      "15.- Matthew / Wilson / 14\n",
      "16.- Jason / Gomez / 15\n",
      "17.- Angela / Hernandez / 16\n",
      "18.- Shannon / Randall / 17\n",
      "19.- Matthew / Richards / 18\n",
      "20.- Kristin / Watson / 19\n",
      "21.- Terri / Hernandez / 20\n",
      "22.- Pam / Adams / 21\n",
      "23.- Chris / Jackson / 22\n",
      "24.- Nicole / White / 23\n",
      "25.- Mr. / Hopkins / 24\n",
      "26.- Donald / Manning / 25\n",
      "27.- Karen / Williams / 26\n",
      "28.- Jenna / Anderson / 27\n",
      "29.- Christine / Burns / 28\n",
      "30.- Philip / Bradshaw / 29\n",
      "31.- John / Collins / 30\n",
      "32.- Mindy / Griffin / 31\n",
      "33.- Hannah / Greer / 32\n",
      "34.- Melissa / King / 33\n",
      "35.- Eugene / Mahoney / 34\n",
      "36.- Joseph / Fernandez / 35\n",
      "37.- Joshua / Wright / 36\n",
      "38.- Ralph / Thomas / 37\n",
      "39.- Mary / Avila / 38\n",
      "40.- Edward / Barker / 39\n",
      "41.- Patty / Freeman / 40\n",
      "42.- Heidi / Ball / 41\n",
      "43.- Luis / Le / 42\n",
      "44.- Ms. / Thornton / 43\n",
      "45.- Hannah / Brown / 44\n",
      "46.- Barbara / Frye / 45\n",
      "47.- Kathleen / Martin / 46\n",
      "48.- Daniel / Kaiser / 47\n",
      "49.- Claudia / DDS / 48\n",
      "50.- Keith / Torres / 49\n"
     ]
    }
   ],
   "source": [
    "# Escribe tu código aquí:\n",
    "datos = zip(true_names, true_surnames, true_money)\n",
    "for i, d in enumerate(datos, 1):\n",
    "    print(f\"{i}.- {d[0]} / {d[1]} / {d[2]}\")"
   ]
  },
  {
   "cell_type": "markdown",
   "metadata": {},
   "source": [
    "## Ejercicio 2: Map y Filter"
   ]
  },
  {
   "cell_type": "markdown",
   "metadata": {},
   "source": [
    "Ahora, deberás manejar los datos mediante `map` y `filter`. "
   ]
  },
  {
   "cell_type": "code",
   "execution_count": 24,
   "metadata": {},
   "outputs": [
    {
     "name": "stdout",
     "output_type": "stream",
     "text": [
      "[('Tracey', 'Young', 0), ('Justin', 'Thompson', 1), ('Amanda', 'Bowman', 2), ('Curtis', 'Davis', 3), ('Andrew', 'Foster', 4)]\n"
     ]
    }
   ],
   "source": [
    "datos = list(zip(true_names, true_surnames, true_money))\n",
    "print(datos[:5])"
   ]
  },
  {
   "cell_type": "markdown",
   "metadata": {},
   "source": [
    "Primero, queremos obtener una lista con los nombres completos de cada persona, es decir, nombre + apellido, utilizando `map`. "
   ]
  },
  {
   "cell_type": "code",
   "execution_count": 25,
   "metadata": {},
   "outputs": [
    {
     "name": "stdout",
     "output_type": "stream",
     "text": [
      "['Tracey Young', 'Justin Thompson', 'Amanda Bowman', 'Curtis Davis', 'Andrew Foster']\n"
     ]
    }
   ],
   "source": [
    "# Escribe tu código acá\n",
    "nombres_completos = list(map(lambda d: f\"{d[0]} {d[1]}\", datos))\n",
    "print(nombres_completos[:5])"
   ]
  },
  {
   "cell_type": "markdown",
   "metadata": {},
   "source": [
    "También deseamos saber quienes tienen un ingreso entre 8 y 15. La función `filter` permite esto fácilmente."
   ]
  },
  {
   "cell_type": "code",
   "execution_count": 26,
   "metadata": {},
   "outputs": [
    {
     "name": "stdout",
     "output_type": "stream",
     "text": [
      "[('Christopher', 'Black', 8), ('Courtney', 'Harris', 9), ('Jason', 'Fisher', 10), ('Sherry', 'Hall', 11), ('Dawn', 'Thornton', 12), ('Michael', 'Navarro', 13), ('Matthew', 'Wilson', 14), ('Jason', 'Gomez', 15)]\n"
     ]
    }
   ],
   "source": [
    "# Escribe tu código acá\n",
    "filtrado = list(filter(lambda d: d[2] in range(8, 16), datos))\n",
    "print(filtrado)"
   ]
  },
  {
   "cell_type": "markdown",
   "metadata": {},
   "source": [
    "Pero, esto no se ve bien, utilicemos `map` para ver sólo el nombre y apellido."
   ]
  },
  {
   "cell_type": "code",
   "execution_count": 27,
   "metadata": {},
   "outputs": [
    {
     "name": "stdout",
     "output_type": "stream",
     "text": [
      "['Christopher Black', 'Courtney Harris', 'Jason Fisher', 'Sherry Hall', 'Dawn Thornton', 'Michael Navarro', 'Matthew Wilson', 'Jason Gomez']\n"
     ]
    }
   ],
   "source": [
    "# Escribe tu código acá\n",
    "nombres_filtro = list(map(lambda d: f\"{d[0]} {d[1]}\", filtrado))\n",
    "print(nombres_filtro)"
   ]
  },
  {
   "cell_type": "markdown",
   "metadata": {},
   "source": [
    "Por último, quieres saber el nombre de las personas que su nombre empiece con la misma letra que su apellido."
   ]
  },
  {
   "cell_type": "code",
   "execution_count": 31,
   "metadata": {},
   "outputs": [
    {
     "name": "stdout",
     "output_type": "stream",
     "text": [
      "('Luis', 'Le', 42)\n"
     ]
    }
   ],
   "source": [
    "# Escribe tu código acá\n",
    "persona = list(filter(lambda d: d[0][0] == d[1][0], datos))\n",
    "print(persona[0])"
   ]
  },
  {
   "cell_type": "markdown",
   "metadata": {},
   "source": [
    "## Ejercicio 3: Reduce y Map  "
   ]
  },
  {
   "cell_type": "markdown",
   "metadata": {},
   "source": [
    "Nos acaban de informar que las bases de datos ocupadas en el ejercicio uno están malas! Más especificamente, el valor del dinero está completamente erroneo. En verdad representa pesos, no millones de pesos. Lamentablemente el cambio no es tan facil como multiplicar por un millón.\n",
    "\n",
    "Para poder obtener el valor correcto, deberás aplicar la función **factorial**, sin embargo, deberás implementarla haciendo uso de `reduce`. Luego, deberás aplicar a esta función a **todos los números de la lista**, para esto deberás hacer uso de la función `map`.\n",
    "\n",
    "A continuación encontrarás la lista con los números a modificar:"
   ]
  },
  {
   "cell_type": "code",
   "execution_count": 34,
   "metadata": {},
   "outputs": [],
   "source": [
    "import random\n",
    "from functools import reduce\n",
    "\n",
    "numeros = [random.randint(0, 15) for _ in range(100)]"
   ]
  },
  {
   "cell_type": "code",
   "execution_count": 42,
   "metadata": {},
   "outputs": [
    {
     "name": "stdout",
     "output_type": "stream",
     "text": [
      "1\n",
      "[720, 720, 39916800, 87178291200, 40320, 1, 3628800, 6227020800, 87178291200, 87178291200, 5040, 24, 6227020800, 6227020800, 479001600, 362880, 3628800, 362880, 120, 2, 2, 720, 6227020800, 40320, 24, 24, 1307674368000, 479001600, 6227020800, 6227020800, 3628800, 6, 6, 5040, 39916800, 5040, 40320, 362880, 5040, 6, 1, 479001600, 40320, 6227020800, 720, 362880, 87178291200, 1307674368000, 120, 5040, 6, 720, 5040, 39916800, 720, 1307674368000, 1, 720, 2, 3628800, 6227020800, 120, 3628800, 1, 120, 479001600, 6, 5040, 24, 720, 120, 1, 6227020800, 3628800, 40320, 5040, 120, 87178291200, 479001600, 6227020800, 24, 1, 24, 87178291200, 2, 362880, 87178291200, 479001600, 24, 2, 3628800, 362880, 1, 87178291200, 362880, 87178291200, 40320, 479001600, 2, 40320]\n"
     ]
    }
   ],
   "source": [
    "def factorial(n):\n",
    "    # Completa la función haciendo uso de reduce. \n",
    "    # Recuerda que factorial de 0 es 1. (Puedes implementar ese caso especifico sin reduce)   \n",
    "    return reduce(lambda x, y: x * y, range(1, n + 1), 1)\n",
    "print(factorial(1))\n",
    "# Aqui haz uso de map con la función que acabas de definir:\n",
    "dinero_valido = list(map(lambda d: factorial(d), numeros))\n",
    "print(dinero_valido)"
   ]
  },
  {
   "cell_type": "markdown",
   "metadata": {},
   "source": [
    "Finalmente, solo por temas estadísticos, requieres calcular el promedio de estos números. Como bien sabrás para poder lograr esto deberás sumar todos los números en primer lugar, para esto deberás utilizar la función `reduce` nuevamente."
   ]
  },
  {
   "cell_type": "code",
   "execution_count": 43,
   "metadata": {},
   "outputs": [
    {
     "name": "stdout",
     "output_type": "stream",
     "text": [
      "47733989654.17\n"
     ]
    }
   ],
   "source": [
    "def suma(n):\n",
    "    # Completa la función haciendo uso de reduce.\n",
    "    return reduce(lambda x, y: x + y, n)\n",
    "\n",
    "# Aquí haz uso de la función que acabas de utilizar para calcular el promedio:\n",
    "\n",
    "print(suma(dinero_valido) / len(dinero_valido))"
   ]
  },
  {
   "cell_type": "markdown",
   "metadata": {},
   "source": [
    "## Ejercicio 4: Generadores"
   ]
  },
  {
   "cell_type": "markdown",
   "metadata": {},
   "source": [
    "En este ejercicio tu tarea será definir un **generador** que entregue todos los números primos. Para esto definiremos la función auxiliar `es_primo`."
   ]
  },
  {
   "cell_type": "code",
   "execution_count": 44,
   "metadata": {},
   "outputs": [],
   "source": [
    "def es_primo(nr):\n",
    "    if nr > 1:\n",
    "        for i in range(2, nr):\n",
    "            if not (nr % i):\n",
    "                return False\n",
    "        return True\n",
    "    return False"
   ]
  },
  {
   "cell_type": "markdown",
   "metadata": {},
   "source": [
    "Ahora, completa `iterador_primos` para que cada iteración retorne el siguiente número primo.\n",
    "\n",
    "*Hint: si al ejecutar la celda inferior lees `<generator object iterador_primos ...>` vas por buen camino.*"
   ]
  },
  {
   "cell_type": "code",
   "execution_count": 47,
   "metadata": {},
   "outputs": [
    {
     "data": {
      "text/plain": [
       "<generator object iterador_primos at 0x000002167A474BA0>"
      ]
     },
     "execution_count": 47,
     "metadata": {},
     "output_type": "execute_result"
    }
   ],
   "source": [
    "def iterador_primos():\n",
    "    # Completar utlizando yield, recuerda que debe ser un generador\n",
    "    i = 0\n",
    "    while True:\n",
    "        if es_primo(i):\n",
    "            yield i\n",
    "        i += 1\n",
    "        \n",
    "        \n",
    "\n",
    "\n",
    "generador_primos = iterador_primos()\n",
    "generador_primos"
   ]
  },
  {
   "cell_type": "code",
   "execution_count": 48,
   "metadata": {},
   "outputs": [
    {
     "name": "stdout",
     "output_type": "stream",
     "text": [
      "Primo 1: 2\n",
      "Primo 2: 3\n",
      "Primo 3: 5\n",
      "Primo 4: 7\n",
      "Primo 5: 11\n",
      "Primo 6: 13\n",
      "Primo 7: 17\n",
      "Primo 8: 19\n",
      "Primo 9: 23\n",
      "Primo 10: 29\n"
     ]
    }
   ],
   "source": [
    "for i in range(1, 11):\n",
    "    print(f\"Primo {i}: {next(generador_primos)}\")"
   ]
  },
  {
   "cell_type": "markdown",
   "metadata": {},
   "source": [
    "## Ejercicio 5: Decoradores"
   ]
  },
  {
   "cell_type": "markdown",
   "metadata": {},
   "source": [
    "A continuación, te presentamos una simple calculadora que, por descuido del programador, no verifica la cantidad ni el tipo de los inputs.\n",
    "\n",
    "Dado que piensas que su código es espectacular y hermoso, no quieres modificarlo, por lo que decides utiliar decoradores para reparar el problema.\n",
    "\n",
    "Para lo anterior, necesitas crear **dos decoradores**, uno que verifique que la **cantidad de inputs** entregados a la función es la correcta y otro que revise que **los inputs son del tipo adecuado**. Para ambos, si el input entregado es correcto, la función (ya decorada) debe retornar el resultado esperado, mientras que, si el input es incorrecto, la función debe retornar el string _\"Error, parámetros incorrectos\"_"
   ]
  },
  {
   "cell_type": "code",
   "execution_count": null,
   "metadata": {},
   "outputs": [],
   "source": [
    "# crea tus decoradores aquí\n",
    "def cantidad_inputs(funcion):\n",
    "    def wrapper(*args):\n",
    "        if funcion.__name__ == 'raiz':\n",
    "            if len(args) == 1:\n",
    "                return funcion(*args)\n",
    "        elif len(args) == 2:\n",
    "            return funcion(*args)\n",
    "        print(\"Error, parámetros incorrectos\")\n",
    "\n",
    "    return wrapper\n",
    "\n",
    "\n",
    "def tipo_inputs(funcion):\n",
    "    def wrapper(*args):\n",
    "        if len(list(filter(lambda n: n.isdigit(), args))) == len(args):\n",
    "            args = list(map(lambda n: int(n), args))\n",
    "            return funcion(*args)\n",
    "        print(\"Error, parámetros incorrectos\")\n",
    "\n",
    "    return wrapper\n",
    "\n",
    "\n",
    "# decora aqui\n",
    "@tipo_inputs\n",
    "@cantidad_inputs\n",
    "def suma(a, b):\n",
    "    return a + b\n",
    "\n",
    "\n",
    "# decora aqui\n",
    "@tipo_inputs\n",
    "@cantidad_inputs\n",
    "def multiplicacion(a, b):\n",
    "    return a * b\n",
    "\n",
    "# decora aqui\n",
    "@tipo_inputs\n",
    "@cantidad_inputs\n",
    "def potencia (a, b):\n",
    "    return a ** b\n",
    "\n",
    "# decora aqui\n",
    "@tipo_inputs\n",
    "@cantidad_inputs\n",
    "def raiz(a):\n",
    "    return a ** (1 / 2)"
   ]
  },
  {
   "cell_type": "code",
   "execution_count": null,
   "metadata": {},
   "outputs": [],
   "source": [
    "# Recordemos que al ser funciones de primera clase,\n",
    "# podemos guardar las operaciones en alguna estructura de datos, \n",
    "# en particular, en un diccionario\n",
    "operaciones = {1: suma,\n",
    "               2: multiplicacion,\n",
    "               3: potencia,\n",
    "               4: raiz}\n",
    "\n",
    "\n",
    "menu_inicial = '''Ingrese el número de la operación que desea realizar:\n",
    "1: suma\n",
    "2: multiplicacion\n",
    "3: potencia\n",
    "4: raiz cuadrada\n",
    ">> '''\n",
    "\n",
    "menu_numeros = '''Ingrese los números que desea operar, separados por coma\n",
    ">> '''\n",
    "\n",
    "\n",
    "while True:\n",
    "    opcion = input(menu_inicial)\n",
    "    if opcion.isdigit() and 0 < int(opcion) < 5:\n",
    "        # Separamos los numeros de input\n",
    "        nums = input(menu_numeros).split(',')\n",
    "        # Ejecutamos la operacion correspondiente\n",
    "        result = operaciones[int(opcion)](*nums)\n",
    "        print(result)\n",
    "    else:\n",
    "        print('Opción inválida')"
   ]
  },
  {
   "cell_type": "markdown",
   "metadata": {},
   "source": [
    "## Ejercicio _Bonus_: Manejo de menús"
   ]
  },
  {
   "cell_type": "markdown",
   "metadata": {},
   "source": [
    "Como habrás notado, en el ejercicio 5 te entregamos hecho un menú que aprovecha parte de los contenidos de las dos últimas semanas (diccionarios y funciones de primera clase) para ahorrar una enorme cantidad de sentencias `if` y así lograr un código más legible.\n",
    "\n",
    "A pesar de lo anterior, si quisieramos agregar nuevas opciones a nuestro menú, tendríamos que editar manualmente el diccionario de opciones y el string de menú. \n",
    "\n",
    "Como ejercicio final, intenta crear el string \"menú_inicial\" directamente a partir del diccionario de operaciones, de tal manera que se actualice al agregar nuevas operaciones a nuestra calculadora."
   ]
  },
  {
   "cell_type": "code",
   "execution_count": null,
   "metadata": {},
   "outputs": [],
   "source": [
    "from functools import reduce\n",
    "\n",
    "# Recuerda decorar esta nueva funcion\n",
    "def factorial(n):\n",
    "    return reduce(lambda x, y: x * y, range(1, n+1))\n",
    "\n",
    "# Operaciones actualizadas\n",
    "operaciones = {1: suma,\n",
    "               2: multiplicacion,\n",
    "               3: potencia,\n",
    "               4: raiz,\n",
    "               5: factorial}\n",
    "\n",
    "\n",
    "# Completa o redefine el siguiente menu:\n",
    "menu_inicial = ''.join([f\"{i}: {op.__name__}\\n\" for i, op in operaciones.items()])\n",
    "print(menu_inicial)\n",
    "\n",
    "\n",
    "while True:\n",
    "    opcion = input(menu_inicial)\n",
    "    if opcion.isdigit() and 0 < int(opcion) < 6:\n",
    "        # Separamos los numeros de input\n",
    "        nums = input(menu_numeros).split(',')\n",
    "        # Ejecutamos la operacion correspondiente\n",
    "        result = operaciones[int(opcion)](*nums)\n",
    "        print(result)\n",
    "    else:\n",
    "        print('Opción inválida')"
   ]
  },
  {
   "cell_type": "code",
   "execution_count": null,
   "metadata": {},
   "outputs": [],
   "source": []
  }
 ],
 "metadata": {
  "kernelspec": {
   "display_name": "Python 3",
   "language": "python",
   "name": "python3"
  },
  "language_info": {
   "codemirror_mode": {
    "name": "ipython",
    "version": 3
   },
   "file_extension": ".py",
   "mimetype": "text/x-python",
   "name": "python",
   "nbconvert_exporter": "python",
   "pygments_lexer": "ipython3",
   "version": "3.6.6"
  }
 },
 "nbformat": 4,
 "nbformat_minor": 2
}
