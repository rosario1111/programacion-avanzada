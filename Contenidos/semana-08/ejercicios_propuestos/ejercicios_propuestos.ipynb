{
 "cells": [
  {
   "cell_type": "markdown",
   "metadata": {},
   "source": [
    "# Ejercicios propuestos: Excepciones"
   ]
  },
  {
   "cell_type": "markdown",
   "metadata": {},
   "source": [
    "Los siguientes problemas se dejan como opción para ejercitar los conceptos revisados en el material sobre excepciones (semana-08). Si tienes dudas sobre algún problema o alguna solución, no dudes en dejar una issue en el foro del curso.\n",
    "\n",
    "El objetivo es poner en práctica el levantamiento y manejo de exepciones en distintas situaciones. A su vez, se busca poner en práctica su uso en programas y ver como se complementa en su flujo."
   ]
  },
  {
   "cell_type": "markdown",
   "metadata": {},
   "source": [
    "## Ejercicio 1: Levantando errores simples"
   ]
  },
  {
   "cell_type": "markdown",
   "metadata": {},
   "source": [
    "En las siguientes líneas, levanta un tipo de excepción distinta en cada una. Además, agrégale un mensaje distinto para que se muestre al ejecutarse. Fueron ocho los tipos de excepciones revisados en el cuaderno `1-excepciones-intro`, se te entrega un ejemplo del primer tipo de excepción:"
   ]
  },
  {
   "cell_type": "code",
   "execution_count": 1,
   "metadata": {},
   "outputs": [
    {
     "ename": "SyntaxError",
     "evalue": "Error con mensaje personalizado (<string>)",
     "output_type": "error",
     "traceback": [
      "Traceback \u001b[1;36m(most recent call last)\u001b[0m:\n",
      "  File \u001b[0;32m\"c:\\users\\rleiv\\appdata\\local\\programs\\python\\python36\\lib\\site-packages\\IPython\\core\\interactiveshell.py\"\u001b[0m, line \u001b[0;32m2961\u001b[0m, in \u001b[0;35mrun_code\u001b[0m\n    exec(code_obj, self.user_global_ns, self.user_ns)\n",
      "\u001b[1;36m  File \u001b[1;32m\"<ipython-input-1-c2e2bec39eee>\"\u001b[1;36m, line \u001b[1;32m1\u001b[1;36m, in \u001b[1;35m<module>\u001b[1;36m\u001b[0m\n\u001b[1;33m    raise SyntaxError(\"Error con mensaje personalizado\")\u001b[0m\n",
      "\u001b[1;36m  File \u001b[1;32m\"<string>\"\u001b[1;36m, line \u001b[1;32munknown\u001b[0m\n\u001b[1;31mSyntaxError\u001b[0m\u001b[1;31m:\u001b[0m Error con mensaje personalizado\n"
     ]
    }
   ],
   "source": [
    "raise SyntaxError(\"Error con mensaje personalizado\")"
   ]
  },
  {
   "cell_type": "code",
   "execution_count": 2,
   "metadata": {},
   "outputs": [
    {
     "ename": "NameError",
     "evalue": "Nombre de variable inexistente",
     "output_type": "error",
     "traceback": [
      "\u001b[1;31m---------------------------------------------------------------------------\u001b[0m",
      "\u001b[1;31mNameError\u001b[0m                                 Traceback (most recent call last)",
      "\u001b[1;32m<ipython-input-2-f532d02de612>\u001b[0m in \u001b[0;36m<module>\u001b[1;34m()\u001b[0m\n\u001b[1;32m----> 1\u001b[1;33m \u001b[1;32mraise\u001b[0m \u001b[0mNameError\u001b[0m\u001b[1;33m(\u001b[0m\u001b[1;34m\"Nombre de variable inexistente\"\u001b[0m\u001b[1;33m)\u001b[0m\u001b[1;33m\u001b[0m\u001b[0m\n\u001b[0m",
      "\u001b[1;31mNameError\u001b[0m: Nombre de variable inexistente"
     ]
    }
   ],
   "source": [
    "raise NameError(\"Nombre de variable inexistente\")"
   ]
  },
  {
   "cell_type": "code",
   "execution_count": 3,
   "metadata": {},
   "outputs": [
    {
     "ename": "ZeroDivisionError",
     "evalue": "El denominador no puede ser igual a cero",
     "output_type": "error",
     "traceback": [
      "\u001b[1;31m---------------------------------------------------------------------------\u001b[0m",
      "\u001b[1;31mZeroDivisionError\u001b[0m                         Traceback (most recent call last)",
      "\u001b[1;32m<ipython-input-3-1abe7158740d>\u001b[0m in \u001b[0;36m<module>\u001b[1;34m()\u001b[0m\n\u001b[1;32m----> 1\u001b[1;33m \u001b[1;32mraise\u001b[0m \u001b[0mZeroDivisionError\u001b[0m\u001b[1;33m(\u001b[0m\u001b[1;34m\"El denominador no puede ser igual a cero\"\u001b[0m\u001b[1;33m)\u001b[0m\u001b[1;33m\u001b[0m\u001b[0m\n\u001b[0m",
      "\u001b[1;31mZeroDivisionError\u001b[0m: El denominador no puede ser igual a cero"
     ]
    }
   ],
   "source": [
    "raise ZeroDivisionError(\"El denominador no puede ser igual a cero\")"
   ]
  },
  {
   "cell_type": "code",
   "execution_count": 4,
   "metadata": {},
   "outputs": [
    {
     "ename": "IndexError",
     "evalue": "Indexación fuera de rango",
     "output_type": "error",
     "traceback": [
      "\u001b[1;31m---------------------------------------------------------------------------\u001b[0m",
      "\u001b[1;31mIndexError\u001b[0m                                Traceback (most recent call last)",
      "\u001b[1;32m<ipython-input-4-ae3cc59c6937>\u001b[0m in \u001b[0;36m<module>\u001b[1;34m()\u001b[0m\n\u001b[1;32m----> 1\u001b[1;33m \u001b[1;32mraise\u001b[0m \u001b[0mIndexError\u001b[0m\u001b[1;33m(\u001b[0m\u001b[1;34m\"Indexación fuera de rango\"\u001b[0m\u001b[1;33m)\u001b[0m\u001b[1;33m\u001b[0m\u001b[0m\n\u001b[0m",
      "\u001b[1;31mIndexError\u001b[0m: Indexación fuera de rango"
     ]
    }
   ],
   "source": [
    "raise IndexError(\"Indexación fuera de rango\")"
   ]
  },
  {
   "cell_type": "code",
   "execution_count": 5,
   "metadata": {},
   "outputs": [
    {
     "ename": "KeyError",
     "evalue": "'Nombre de llave inválido'",
     "output_type": "error",
     "traceback": [
      "\u001b[1;31m---------------------------------------------------------------------------\u001b[0m",
      "\u001b[1;31mKeyError\u001b[0m                                  Traceback (most recent call last)",
      "\u001b[1;32m<ipython-input-5-7ef29eaa1d6a>\u001b[0m in \u001b[0;36m<module>\u001b[1;34m()\u001b[0m\n\u001b[1;32m----> 1\u001b[1;33m \u001b[1;32mraise\u001b[0m \u001b[0mKeyError\u001b[0m\u001b[1;33m(\u001b[0m\u001b[1;34m\"Nombre de llave inválido\"\u001b[0m\u001b[1;33m)\u001b[0m\u001b[1;33m\u001b[0m\u001b[0m\n\u001b[0m",
      "\u001b[1;31mKeyError\u001b[0m: 'Nombre de llave inválido'"
     ]
    }
   ],
   "source": [
    "raise KeyError(\"Nombre de llave inválido\")"
   ]
  },
  {
   "cell_type": "code",
   "execution_count": 6,
   "metadata": {},
   "outputs": [
    {
     "ename": "AttributeError",
     "evalue": "La clase no presenta el atributo o método ingresado",
     "output_type": "error",
     "traceback": [
      "\u001b[1;31m---------------------------------------------------------------------------\u001b[0m",
      "\u001b[1;31mAttributeError\u001b[0m                            Traceback (most recent call last)",
      "\u001b[1;32m<ipython-input-6-19799342f1a2>\u001b[0m in \u001b[0;36m<module>\u001b[1;34m()\u001b[0m\n\u001b[1;32m----> 1\u001b[1;33m \u001b[1;32mraise\u001b[0m \u001b[0mAttributeError\u001b[0m\u001b[1;33m(\u001b[0m\u001b[1;34m\"La clase no presenta el atributo o método ingresado\"\u001b[0m\u001b[1;33m)\u001b[0m\u001b[1;33m\u001b[0m\u001b[0m\n\u001b[0m",
      "\u001b[1;31mAttributeError\u001b[0m: La clase no presenta el atributo o método ingresado"
     ]
    }
   ],
   "source": [
    "raise AttributeError(\"La clase no presenta el atributo o método ingresado\")"
   ]
  },
  {
   "cell_type": "code",
   "execution_count": 7,
   "metadata": {},
   "outputs": [
    {
     "ename": "TypeError",
     "evalue": "Tipo de dato incorrecto",
     "output_type": "error",
     "traceback": [
      "\u001b[1;31m---------------------------------------------------------------------------\u001b[0m",
      "\u001b[1;31mTypeError\u001b[0m                                 Traceback (most recent call last)",
      "\u001b[1;32m<ipython-input-7-fd9060c8d5b9>\u001b[0m in \u001b[0;36m<module>\u001b[1;34m()\u001b[0m\n\u001b[1;32m----> 1\u001b[1;33m \u001b[1;32mraise\u001b[0m \u001b[0mTypeError\u001b[0m\u001b[1;33m(\u001b[0m\u001b[1;34m\"Tipo de dato incorrecto\"\u001b[0m\u001b[1;33m)\u001b[0m\u001b[1;33m\u001b[0m\u001b[0m\n\u001b[0m",
      "\u001b[1;31mTypeError\u001b[0m: Tipo de dato incorrecto"
     ]
    }
   ],
   "source": [
    "raise TypeError(\"Tipo de dato incorrecto\")"
   ]
  },
  {
   "cell_type": "code",
   "execution_count": 8,
   "metadata": {},
   "outputs": [
    {
     "ename": "ValueError",
     "evalue": "Valor equivocado",
     "output_type": "error",
     "traceback": [
      "\u001b[1;31m---------------------------------------------------------------------------\u001b[0m",
      "\u001b[1;31mValueError\u001b[0m                                Traceback (most recent call last)",
      "\u001b[1;32m<ipython-input-8-d9815bf7ca5f>\u001b[0m in \u001b[0;36m<module>\u001b[1;34m()\u001b[0m\n\u001b[1;32m----> 1\u001b[1;33m \u001b[1;32mraise\u001b[0m \u001b[0mValueError\u001b[0m\u001b[1;33m(\u001b[0m\u001b[1;34m\"Valor equivocado\"\u001b[0m\u001b[1;33m)\u001b[0m\u001b[1;33m\u001b[0m\u001b[0m\n\u001b[0m",
      "\u001b[1;31mValueError\u001b[0m: Valor equivocado"
     ]
    }
   ],
   "source": [
    "raise ValueError(\"Valor equivocado\")"
   ]
  },
  {
   "cell_type": "markdown",
   "metadata": {},
   "source": [
    "## Ejercicio 2: Manejando errores simples"
   ]
  },
  {
   "cell_type": "markdown",
   "metadata": {},
   "source": [
    "En el siguiente código, se muestra una sucesión de instrucciones que se aplican sobre el diccionario `data`. Las instrucciones intentan acceder a distintos valores del diccionario e intentan realizar operaciones. Si ejecutas el código, cada instrucción arrojará un error de distinto tipo. Tu deber es capturar los distintos tipos de error que esta porción de código arroja e imprimir un mensaje correspondiente al error. Ojo, no debes alterar las líneas existentes para que estas no arrojen error, debes envolver cada línea con el ambiente `try/except` y capturar el error correspondiente. \n",
    "\n",
    "Por ejemplo, si una instrucción fuese la siguiente, dónde ocurre un `NameError`:\n",
    "```python\n",
    "variable_que_no_existe + 1\n",
    "```\n",
    "\n",
    "Debes capturarla de la siguiente forma, envolviendola en un `try/except`:\n",
    "\n",
    "```python\n",
    "try:\n",
    "    variable_que_no_existe + 1\n",
    "except NameError as err:\n",
    "    print(\"¡Error de nombre arrojado!\")\n",
    "```\n",
    "\n",
    "Así, el resultado de esta porción de código no lanzará ningún error, solo imprimirá información de ellos."
   ]
  },
  {
   "cell_type": "code",
   "execution_count": 11,
   "metadata": {},
   "outputs": [
    {
     "name": "stdout",
     "output_type": "stream",
     "text": [
      "No existe la llave\n",
      "No es un índice válido\n",
      "Tipo de dato incorrecto\n",
      "data no posee ese atributo\n",
      "Valor inválido\n"
     ]
    }
   ],
   "source": [
    "# No alteres este diccionario\n",
    "data = {\n",
    "    \"nombre\": \"Juan\",\n",
    "    \"edad\": 23,\n",
    "    \"numeros\": [1, 2, 3, 4, 5]\n",
    "} \n",
    "\n",
    "try:\n",
    "    data[\"apellido\"] # No alteres esta línea, debes envolverla en try/except\n",
    "except KeyError as err1:\n",
    "    print(\"No existe la llave\")\n",
    "\n",
    "try:\n",
    "    data[\"numeros\"][10] # No alteres esta línea, debes envolverla en try/except\n",
    "except IndexError as err2:\n",
    "    print(\"No es un índice válido\")\n",
    "    \n",
    "\n",
    "\n",
    "try:\n",
    "    data[[1, 2]] = 4 # No alteres esta línea, debes envolverla en try/except\n",
    "except TypeError as err3:\n",
    "    print(\"Tipo de dato incorrecto\")\n",
    "\n",
    "try:\n",
    "    data.length # No alteres esta línea, debes envolverla en try/except\n",
    "except AttributeError as err4:\n",
    "    print(\"data no posee ese atributo\")\n",
    "\n",
    "try:\n",
    "    int(data[\"nombre\"]) # No alteres esta línea, debes envolverla en try/except\n",
    "except ValueError as err5:\n",
    "    print(\"Valor inválido\")"
   ]
  },
  {
   "cell_type": "markdown",
   "metadata": {},
   "source": [
    "## Ejercicio 3: Lista Mágica\n",
    "\n",
    "Se te entrega la clase `ListaMagica` casi completada, cuya intención es que funcione como un envoltorio sobre una lista de tal forma que un usuario sea capaz de pedir acceder a un índice de la lista, pero si el índice se escapa del largo de la lista interna, entonces esta no arroja un error si no que simplemente informa al usuario que la lista no es tan larga. Si el índice pedido si es accesible, entonces imprime el elemento correspondiente a la posición. Debes completar el método `verificar_error` para lograrlo.\n",
    "\n",
    "Por ejemplo, para el siguiente código:\n",
    "```python\n",
    "lista_magica = ListaMagica([3, 12, 'Juan'])\n",
    "lista_magica.pedir_usuario()\n",
    "```\n",
    "Si el usuario ingresa `0`, entonces se imprime `'El elemento en el índice 0 es 3'`. Si ingresara `2`, imprime `'El elemento en el índice 2 es Juan'`.\n",
    "\n",
    "Pero si se ingresa `100`, imprime `'La lista no es tan larga :('`."
   ]
  },
  {
   "cell_type": "code",
   "execution_count": 12,
   "metadata": {},
   "outputs": [
    {
     "name": "stdout",
     "output_type": "stream",
     "text": [
      "Ingresa un índice: 5\n",
      "El elemento en el índice 5 es casa\n",
      "Ingresa un índice: 8\n",
      "El elemento en el índice 8 es 7\n",
      "Ingresa un índice: 112\n",
      "La lista no es tan larga :(\n"
     ]
    }
   ],
   "source": [
    "class ListaMagica:\n",
    "\n",
    "    def __init__(self, lista):\n",
    "        self.lista = lista\n",
    "        \n",
    "    def pedir_usuario(self):\n",
    "        indice_input = int(input('Ingresa un índice: '))\n",
    "        self.verificar_error(indice_input)\n",
    "        \n",
    "    def verificar_error(self, i):\n",
    "        try: # Intentar acceder al elemento de la lista e imprimirlo si se logra.\n",
    "            print(\"El elemento en el índice\", i, \"es\", self.lista[i])\n",
    "        except : # Debes rellenar que error es y decir que la lista no es lo suficientemente larga.\n",
    "            print(\"La lista no es tan larga :(\")\n",
    "\n",
    "if __name__ == \"__main__\":\n",
    "    lista = [0, 'perro', 20, 6, 37, 'casa', -1, 'zapato', 7, 85, 22, 'gato', 65, -100, 'camino']\n",
    "    lista_magica = ListaMagica(lista)\n",
    "    \n",
    "    lista_magica.pedir_usuario()\n",
    "    lista_magica.pedir_usuario()\n",
    "    lista_magica.pedir_usuario()"
   ]
  },
  {
   "cell_type": "markdown",
   "metadata": {},
   "source": [
    "## Ejercicio 4: Netflix\n",
    "\n",
    "Como te encanta tanto Netflix y quieres planificar que series ver, decides buscar en una página las mejores películas. Encuentras la información en formato de una carpeta llamada `'series'` con muchos archivos de extensión .txt. El nombre de cada archivo es el nombre de una serie y dentro del archivo se encuentra el número de ranking de la serie. Se te entrega una clase armada capaz de preguntarle al usuario por una serie, este abrirá el archivo correspondiente a la serie según el nombre e imprimirá el ranking encontrado. Lo que ocurre, es que si no existe el archivo buscado, entonces se cae el programa. Tu misión es arreglar el código de forma que no se caiga cuando preguntes por una película que no este en la base de datos, e imprima simplemente `'No existe en la base de datos'`. Te recomendamos probar el código para ver qué ocurre sin el manejo de excepciones y así capturar el error correcto.\n",
    "\n",
    "**Ojo:** No debes arreglar el código para que el error no se arroje nunca, lo que debes hacer es capturar el error donde ocurra y manejarlo."
   ]
  },
  {
   "cell_type": "code",
   "execution_count": null,
   "metadata": {},
   "outputs": [],
   "source": [
    "import os\n",
    "\n",
    "class Netflix:\n",
    "\n",
    "    def preguntar_serie(self):\n",
    "        serie = input('Ingresa serie: ')\n",
    "        self.verificar_error(serie)\n",
    "        \n",
    "    def verificar_error(self, serie):\n",
    "        with open(os.path.join('series', f'{serie}.txt')) as archivo:\n",
    "            n = archivo.readline()\n",
    "        print(n)\n",
    "\n",
    "if __name__ == \"__main__\":\n",
    "    netflix = Netflix()\n",
    "    try:\n",
    "        netflix.preguntar_serie()\n",
    "    except IOError:\n",
    "        print('No existe en la base de datos')\n",
    "    try:\n",
    "        netflix.preguntar_serie()\n",
    "    except IOError:\n",
    "        print('No existe en la base de datos')\n",
    "    try:\n",
    "        netflix.preguntar_serie()\n",
    "    except IOError:\n",
    "        print('No existe en la base de datos')"
   ]
  },
  {
   "cell_type": "markdown",
   "metadata": {},
   "source": [
    "## Ejercicio 5: Creador de novelas originales\n",
    "\n",
    "Mientras estudiabas programación recordaste que para cierto ramo de comunicación debías hacer una historia completamente original. No entraste en pánico, ya que sabes que con tus habilidades de programación puedes crear un programa que saque oraciones de otras novelas famosas y las una para obtener un resultado totalmente original.\n",
    "\n",
    "Se te entrega la clase `NovelasMaker` para lograr el objetivo descrito. El programa se organiza de tal forma que mediante el método `guardar_lineas(path)` se intenta cargar una cantidad de líneas de un texto ubicado en `path`. Este método debe: abrir el archivo correspondiente, pedir al usuario la cantidad de líneas que desea extraer de ese archivo (mediante `input`), y desde una línea aleatoria del archivo, extrae la cantidad de líneas específicada y las guarda en el atributo `self.lineas_textos`. El método `crear_novela` se encarga de unir todas las líneas extraidas.\n",
    "\n",
    "Ahora, el código está organizado de tal forma que si detectas un error en el flujo de `guardar_lineas(path)`, entonces levantes una excepción para luego ser capturada, en cuyo caso, el archivo correspondiente es ignorado. \n",
    "\n",
    "Los posibles errores que debes detectar y lanzar son: \n",
    "- que la ruta de archivo (`path`) no exista (puedes usar el método `exists` de `path` para eso),\n",
    "- que el usuario entregue un *input* que no es numérico (puedes usar el método `isdigit` de `str` para eso),\n",
    "- o que el número de línea aleatorio en conjunto con la cantidad de líneas a extraer se salga de las dimensiones del archivo.\n",
    "\n",
    "**Ojo**: No debes manejar estos errores dentro de `guardar_lineas`, solo debes lanzar errores (`raise`) si el caso lo amerita, y luego capturar dichos errores en el `main` del programa. \n",
    "\n",
    "**Ojo 2**: Los errores a detectar son de distintos tipos, asegurate identificar de que tipo es el error que se detecta para levantarlo correspondientemente. Por ejemplo, si detecto que se quiere acceder a una llave que no existe en un diccionario, eso corresponde a un `KeyError`, no a un `AtributeError`, o `ValueError`, etc...:\n",
    "\n",
    "```python\n",
    "if llave not in diccionario:\n",
    "    raise KeyError(f'Llave {llave} not in diccionario')\n",
    "```"
   ]
  },
  {
   "cell_type": "code",
   "execution_count": null,
   "metadata": {},
   "outputs": [],
   "source": [
    "from random import randint, shuffle\n",
    "from os.path import exists, join\n",
    "\n",
    "class NovelasMaker:\n",
    "    \n",
    "    def __init__(self):\n",
    "        # Aquí se guardarán las líneas obtenidas de los respectivos textos.\n",
    "        self.lineas_textos = {}\n",
    "        self._llave = 0        \n",
    "    \n",
    "    def llave(self):\n",
    "        self._llave += 1\n",
    "        return self._llave\n",
    "\n",
    "    # Completar función para guardar un número aleatorio de líneas, manejando posibles errores.\n",
    "    def guardar_lineas(self, path):        \n",
    "        # Si el archivo no existe, se levanta la excepción.\n",
    "        if not exists(path):\n",
    "            raise IOError(\"No existe el archivo\")        \n",
    "        # Se pide al usuario la cantidad de líneas a guardar, levantando una excepción si no entrega un dígito.        \n",
    "        numero_lineas = input(\"Número líneas: \")\n",
    "        if not numero_lineas.isdigit():\n",
    "            raise TypeError(\"No es un número\")\n",
    "        numero_lineas = int(numero_lineas)\n",
    "        with open(path, 'r', encoding='utf-8') as archivo:            \n",
    "        # Si la suma de lo anterior es mayor a las líneas del archivo, se levanta una excepción.\n",
    "            lineas = [[l] for l in archivo]\n",
    "            tamano_archivo = len(lineas)\n",
    "            if tamano_archivo < numero_lineas:\n",
    "                raise IndexError(\"Número de líneas es mayor al del archivo\")\n",
    "            i = randint(0, tamano_archivo - 1 - numero_lineas)\n",
    "            for l in lineas[i:i + numero_lineas]:\n",
    "                self.lineas_textos[self.llave()] = l            \n",
    "        \n",
    "    def crear_novela(self):\n",
    "        lineas_nuevo_texto = []        \n",
    "        for lineas in self.lineas_textos.values():\n",
    "            lineas_nuevo_texto.extend(lineas)        \n",
    "        shuffle(lineas_nuevo_texto)        \n",
    "        with open(join(\"textos\", \"resultado.txt\"), \"w+\", encoding='utf-8') as archivo:\n",
    "            for linea in lineas_nuevo_texto:\n",
    "                archivo.write(linea)\n",
    "        print(\"La obra maestra ha sido creada. ¡Ve a leerla!\")"
   ]
  },
  {
   "cell_type": "code",
   "execution_count": null,
   "metadata": {},
   "outputs": [],
   "source": [
    "if __name__ == \"__main__\":    \n",
    "    creador = NovelasMaker()    \n",
    "    for texto in [\"example1.txt\", \"mi_libro.txt\", \"example2.txt\", \"example3.txt\", \"example4.txt\"]:\n",
    "        try:\n",
    "            creador.guardar_lineas(join(\"textos\", texto))            \n",
    "        # Debes completar con el nombre correcto de las excepciones que aparezcan.\n",
    "        except IOError as error1:\n",
    "            print(error1)            \n",
    "        except TypeError as error2:\n",
    "            print(error2)            \n",
    "        except IndexError as error3:\n",
    "            print(error3)    \n",
    "    creador.crear_novela()  "
   ]
  },
  {
   "cell_type": "markdown",
   "metadata": {},
   "source": [
    "## Ejercicio 6: Calculadora\n",
    "\n",
    "Completa la clase ```Calculadora``` que pueda realizar las operaciones simples (sumar, restar, multiplicar y dividir) para *n* números. Ésta recibirá la instrucción a realizar, seguida de los números involucrados, todo separado por comas (`','`). Solo es necesario que la calculadora reciba números enteros, y con la instrucción \"terminar\" se deben dejar de recibir instrucciones.\n",
    "\n",
    "De forma similar al ejemplo anterior, múltiples errores se deben detectar y lanzar en el método `recibir_instruccion` dependiendo del caso:\n",
    "- la instrucción ingresada no es soportada por la calculadora\n",
    "- no se entregan al menos dos números para instrucciones matemáticas\n",
    "- algún argumento entregado no es numérico\n",
    "- se intenta dividir por 0"
   ]
  },
  {
   "cell_type": "code",
   "execution_count": null,
   "metadata": {
    "scrolled": true
   },
   "outputs": [],
   "source": [
    "from functools import reduce\n",
    "\n",
    "\n",
    "class Calculadora:\n",
    "\n",
    "    # Se define el inicializador, con un diccionario que contiene funciones para facilitar la escritura de código.\n",
    "    def __init__(self):\n",
    "        self.instrucciones = {\"sumar\": self.sumar, \"restar\": self.restar, \"multiplicar\": self.multiplicar,\n",
    "                              \"dividir\": self.dividir, \"terminar\": None}\n",
    "        self.funcionando = True\n",
    "\n",
    "    # Se definen las operaciones mínimas\n",
    "    def sumar(self, *args):\n",
    "        return reduce(lambda x, y: x + y, args)\n",
    "\n",
    "    def restar(self, *args):\n",
    "        return reduce(lambda x, y: x - y, args)\n",
    "\n",
    "    def multiplicar(self, *args):\n",
    "        return reduce(lambda x, y: x * y, args)\n",
    "\n",
    "    def dividir(self, *args):\n",
    "        return reduce(lambda x, y: x / y, args)\n",
    "\n",
    "    # Completar método para recibir instrucciones, la cual levanta distintos errores según el caso.\n",
    "    def recibir_instruccion(self, instruccion, *args):\n",
    "        if instruccion not in self.instrucciones.keys():\n",
    "            raise KeyError(\"No existe tal operación\")\n",
    "        if len(args) < 2:\n",
    "            raise ValueError(\"Se necesitan al menos dos números\")\n",
    "        if len(list(filter(lambda arg: arg.isdigit(), args))) != len(args):\n",
    "            raise TypeError(\"Solo se deben ingresar números\")\n",
    "        if list(filter(lambda arg: arg == '0', args[1:])):\n",
    "            raise ZeroDivisionError('División por cero')     \n",
    "        print(self.instrucciones[instruccion](*list(map(lambda arg: int(arg), args))))\n",
    "\n",
    "if __name__ == \"__main__\":\n",
    "\n",
    "    calc = Calculadora()\n",
    "\n",
    "    while calc.funcionando:\n",
    "        try:\n",
    "            instruccion, *args = input(\"Ingrese la instrucción y los números involucrados\" +\n",
    "                                       \"(escriba 'terminar' para terminar): \").split(\",\")\n",
    "            calc.recibir_instruccion(instruccion, *args)\n",
    "\n",
    "        # Debes completar con el nombre correcto de las excepciones que aparezcan.\n",
    "        except KeyError as err1:\n",
    "            print(err1)\n",
    "        except ValueError as err2:\n",
    "            print(err2)\n",
    "        except TypeError as err3:\n",
    "            print(err3)\n",
    "        except ZeroDivisionError as err4:\n",
    "            print(err4)\n",
    "            "
   ]
  },
  {
   "cell_type": "markdown",
   "metadata": {},
   "source": [
    "## Ejercicio 7: DCCompletos\n",
    "\n",
    "El DDC ha decidido hacer una completada, porque nos gusta mucho comer. Pero se dieron cuenta de que es necesario tener un sistema para evitar que alguien le robe completos a otros y alguien se quede sin comer. Por eso inventaron un sistema de *tickets* y es necesario hacer la excepción personalizada `ErrorTratanDeRobar`, para levantarse cuando se encuentran duplicados y para llevar un registro de cuantos duplicados se han encontrado. \n",
    "\n",
    "Se te entrega el esqueleto de la excepción `ErrorTratanDeRobar`. Esta es levantada por la clase `Tienda` cuando encuentra clientes con *tickets* duplicados. Cada instancia del error debe contener la siguiente información del error para que funcione el código descrito: el nombre del cliente como un atributo, el número del ticket como un atributo, y una *property* que entrega la cantidad de *tickets* duplicados que se han encontrado hasta ahora para ese *ticket*. Debes completar la excepción `ErrorTratanDeRobar` para que se logre el comportamiento esperado."
   ]
  },
  {
   "cell_type": "code",
   "execution_count": null,
   "metadata": {},
   "outputs": [],
   "source": [
    "from collections import namedtuple, defaultdict\n",
    "\n",
    "# Modelamos los clientes\n",
    "Cliente = namedtuple('Cliente', ['ticket', 'nombre', 'apellido'])\n",
    "\n",
    "class ErrorTratanDeRobar(Exception):\n",
    "    \n",
    "    conteo = defaultdict(int)\n",
    "    \n",
    "    def __init__(self, cliente):\n",
    "        self.nombre = cliente.nombre\n",
    "        self.ticket = cliente.ticket\n",
    "        self.conteo[self.ticket] += 1\n",
    "        \n",
    "    @property\n",
    "    def cantidad_repeticiones(self):        \n",
    "        return self.conteo[self.ticket]\n",
    "    \n",
    "    \n",
    "# Modelamos la tienda con una estructura simple para almacenar sus clientes\n",
    "class Tienda:\n",
    "    \n",
    "    def __init__(self, nombre):\n",
    "        self.nombre = nombre\n",
    "        self.clientes = dict()\n",
    "    \n",
    "    # Método encargado de entregar un completo, en caso de encontrar duplicado, lanza error\n",
    "    def recibir(self, cliente):\n",
    "        if cliente.ticket in self.clientes:\n",
    "            raise ErrorTratanDeRobar(cliente)\n",
    "        else:\n",
    "            self.clientes[cliente.ticket] = cliente\n",
    "            print(f'✅ Cliente {cliente.nombre} de ticket {cliente.ticket} ha recibido su completo exitosamente.\\n')\n",
    "\n",
    "if __name__ == \"__main__\":\n",
    "    \n",
    "    clientes_que_no_han_comido = [\n",
    "        Cliente('1', 'Daniela', 'Poblete'),\n",
    "        Cliente('2', 'Tomás', 'González'),\n",
    "        Cliente('3', 'Enzo', 'Tamburirni'),\n",
    "        Cliente('4', 'Daniela', 'Concha'),\n",
    "        Cliente('2', 'Dante', 'Pinto'),\n",
    "        Cliente('5', 'Juan', 'Aguillon'),\n",
    "        Cliente('1', 'Caua', 'Paz'),\n",
    "        Cliente('6', 'Máx', 'Narea'),\n",
    "        Cliente('1', 'Javiera', 'Ochoa')\n",
    "    ]\n",
    "\n",
    "    DCCompletos = Tienda('DDCompletos')\n",
    "\n",
    "    for cliente in clientes_que_no_han_comido:\n",
    "        try:\n",
    "            DCCompletos.recibir(cliente)\n",
    "        except ErrorTratanDeRobar as error:\n",
    "            print(f'❌ Cliente {error.nombre} tratando de robar un completo con el ticket {error.ticket} encontrado')\n",
    "            print(f'Ya van {error.cantidad_repeticiones} repetidos para el ticket {error.ticket}')\n",
    "            print()"
   ]
  }
 ],
 "metadata": {
  "kernelspec": {
   "display_name": "Python 3",
   "language": "python",
   "name": "python3"
  },
  "language_info": {
   "codemirror_mode": {
    "name": "ipython",
    "version": 3
   },
   "file_extension": ".py",
   "mimetype": "text/x-python",
   "name": "python",
   "nbconvert_exporter": "python",
   "pygments_lexer": "ipython3",
   "version": "3.6.6"
  },
  "varInspector": {
   "cols": {
    "lenName": 16,
    "lenType": 16,
    "lenVar": 40
   },
   "kernels_config": {
    "python": {
     "delete_cmd_postfix": "",
     "delete_cmd_prefix": "del ",
     "library": "var_list.py",
     "varRefreshCmd": "print(var_dic_list())"
    },
    "r": {
     "delete_cmd_postfix": ") ",
     "delete_cmd_prefix": "rm(",
     "library": "var_list.r",
     "varRefreshCmd": "cat(var_dic_list()) "
    }
   },
   "types_to_exclude": [
    "module",
    "function",
    "builtin_function_or_method",
    "instance",
    "_Feature"
   ],
   "window_display": false
  }
 },
 "nbformat": 4,
 "nbformat_minor": 2
}
